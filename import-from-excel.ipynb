{
 "cells": [
  {
   "cell_type": "code",
   "execution_count": null,
   "id": "d250973e-1bd3-4eb5-84f8-d912e90b4ed9",
   "metadata": {},
   "outputs": [],
   "source": [
    "import django\n",
    "import os\n",
    "import pandas as pd\n",
    "from skimpy import clean_columns\n",
    "\n",
    "os.environ['DJANGO_SETTINGS_MODULE'] = 'django_excel.settings'\n",
    "os.environ[\"DJANGO_ALLOW_ASYNC_UNSAFE\"] = 'true'\n",
    "django.setup()"
   ]
  },
  {
   "cell_type": "code",
   "execution_count": null,
   "id": "eda32386-4bea-4d9f-9a8c-a7ff5fb7d0dd",
   "metadata": {},
   "outputs": [],
   "source": [
    "from bureaue.models import Person, Project, Function"
   ]
  },
  {
   "cell_type": "code",
   "execution_count": null,
   "id": "03cbea6d-6a86-450b-a023-81eb22f3b82b",
   "metadata": {},
   "outputs": [],
   "source": [
    "filename = 'tools/data.xlsx'"
   ]
  },
  {
   "cell_type": "code",
   "execution_count": null,
   "id": "f913e7d4-559e-4acf-8a89-01fe4cc2fa4d",
   "metadata": {},
   "outputs": [],
   "source": [
    "df_bad = pd.read_excel(filename, sheet_name='Sheet1')"
   ]
  },
  {
   "cell_type": "code",
   "execution_count": null,
   "id": "84f02666-a301-4568-8ee5-4c247d3debab",
   "metadata": {},
   "outputs": [],
   "source": [
    "df_bad"
   ]
  },
  {
   "cell_type": "code",
   "execution_count": null,
   "id": "89df6b5a-c14a-4256-b77d-ab46d58be3f9",
   "metadata": {},
   "outputs": [],
   "source": [
    "df = clean_columns(df_bad)"
   ]
  },
  {
   "cell_type": "code",
   "execution_count": null,
   "id": "5b4c52bc-9ba9-4cc6-b009-5e5e56bd86b6",
   "metadata": {},
   "outputs": [],
   "source": [
    "df"
   ]
  },
  {
   "cell_type": "code",
   "execution_count": null,
   "id": "99f5e603-34f1-422b-a30e-38979276c208",
   "metadata": {},
   "outputs": [],
   "source": [
    "Function.objects.all().delete()\n",
    "for row in df[['function']].drop_duplicates().to_dict(orient='records'):\n",
    "    function = Function(\n",
    "        function_name=row['function']\n",
    "    )\n",
    "    function.save()"
   ]
  },
  {
   "cell_type": "code",
   "execution_count": null,
   "id": "26f69a2d-6063-4f5e-9bff-67f74597d0f8",
   "metadata": {},
   "outputs": [],
   "source": [
    "Function.objects.all()"
   ]
  },
  {
   "cell_type": "code",
   "execution_count": null,
   "id": "abd58630-7432-4e82-b4f1-f98a84e2b113",
   "metadata": {},
   "outputs": [],
   "source": [
    "Person.objects.all().delete()\n",
    "for row in df[['name', 'first_name', 'function']].drop_duplicates().to_dict(orient='records'):\n",
    "    function = Function.objects.get(function_name=row['function'])\n",
    "    person = Person(\n",
    "        first_name=row['first_name'],\n",
    "        last_name=row['name'],\n",
    "        function=function,\n",
    "    )\n",
    "    person.save()"
   ]
  },
  {
   "cell_type": "code",
   "execution_count": null,
   "id": "55f61d8d-5af1-4127-b2bb-616d814b1493",
   "metadata": {},
   "outputs": [],
   "source": [
    "Person.objects.all()"
   ]
  },
  {
   "cell_type": "code",
   "execution_count": null,
   "id": "5c959d8d-5a89-406e-b436-cc1ed4aa9e1f",
   "metadata": {},
   "outputs": [],
   "source": [
    "Project.objects.all().delete()\n",
    "for row in df.to_dict(orient='records'):\n",
    "    project_leader = Person.objects.get(\n",
    "        first_name=row['first_name'],\n",
    "        last_name=row['name'],\n",
    "    )\n",
    "    project = Project(\n",
    "        project_name=row['project_name'],\n",
    "        project_leader=project_leader,\n",
    "    )\n",
    "    project.save()"
   ]
  },
  {
   "cell_type": "code",
   "execution_count": null,
   "id": "170881cd-7d12-4592-8f1e-ad27672c4fe5",
   "metadata": {},
   "outputs": [],
   "source": [
    "Project.objects.all()"
   ]
  }
 ],
 "metadata": {
  "kernelspec": {
   "display_name": "Python 3 (ipykernel)",
   "language": "python",
   "name": "python3"
  },
  "language_info": {
   "codemirror_mode": {
    "name": "ipython",
    "version": 3
   },
   "file_extension": ".py",
   "mimetype": "text/x-python",
   "name": "python",
   "nbconvert_exporter": "python",
   "pygments_lexer": "ipython3",
   "version": "3.11.6"
  }
 },
 "nbformat": 4,
 "nbformat_minor": 5
}
